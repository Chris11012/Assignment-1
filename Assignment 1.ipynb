{
 "cells": [
  {
   "cell_type": "markdown",
   "id": "809b2367",
   "metadata": {},
   "source": [
    "## Christopher Douglas version 1 spring "
   ]
  },
  {
   "cell_type": "markdown",
   "id": "d6dc1f15",
   "metadata": {},
   "source": [
    "# Computer Programming for the Liberal Arts\n",
    "## Getting started with markdown\n",
    "> This is going to be a good class\n",
    "* Course chapters \n",
    "* – Course Introduction\n",
    "* – Variables and Simple Data Types\n",
    "* – Introducing Lists, Tuples\n",
    "* – if Statements\n",
    "* – Dictionaries\n",
    "* – While Loops\n",
    "* – Functions\n",
    "* – Classes\n",
    "* – Numpy\n",
    "> Assignments\n",
    "1. Assignments\n",
    "2. Assignments\n",
    "3. Assignments\n",
    "4. Assignments\n",
    "5. Assignments\n",
    "6. Assignments \n",
    "7. Assignments\n",
    "**today is**\n",
    "*1/9/2023*\n",
    "\n",
    "`Coding is cool!`\n",
    "\n",
    "<a href=\"https://github.com/Chris11012\">My Github</a>\n",
    "\n",
    "![pythonlogo](https://upload.wikimedia.org/wikipedia/commons/thumb/6/6e/Golde33443.jpg/330px-Golde33443.jpg)\n",
    "\n",
    "\n",
    "\n"
   ]
  }
 ],
 "metadata": {
  "kernelspec": {
   "display_name": "Python 3 (ipykernel)",
   "language": "python",
   "name": "python3"
  },
  "language_info": {
   "codemirror_mode": {
    "name": "ipython",
    "version": 3
   },
   "file_extension": ".py",
   "mimetype": "text/x-python",
   "name": "python",
   "nbconvert_exporter": "python",
   "pygments_lexer": "ipython3",
   "version": "3.9.13"
  }
 },
 "nbformat": 4,
 "nbformat_minor": 5
}
